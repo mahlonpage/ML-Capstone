{
 "cells": [
  {
   "cell_type": "code",
   "execution_count": 50,
   "metadata": {},
   "outputs": [],
   "source": [
    "import pandas as pd"
   ]
  },
  {
   "cell_type": "code",
   "execution_count": null,
   "metadata": {},
   "outputs": [],
   "source": [
    "# Import Datasets\n",
    "raw_energy_df = pd.read_csv('./data/raw/energy_dataset.csv')\n",
    "raw_weather_df = pd.read_csv('./data/raw/weather_features.csv')"
   ]
  },
  {
   "cell_type": "code",
   "execution_count": null,
   "metadata": {},
   "outputs": [],
   "source": [
    "# Rename, drop, and simplify columns\n",
    "raw_weather_df = raw_weather_df.rename(columns={'clouds_all': 'cloud_cover_pct'})\n",
    "raw_weather_df['precipitation_last_3hr'] = raw_weather_df['snow_3h'] + raw_weather_df['rain_3h']\n",
    "raw_weather_df = raw_weather_df.drop(columns=['temp_min', 'temp_max', 'wind_deg', 'snow_3h', 'rain_1h', 'rain_3h', 'weather_id', 'weather_main', 'weather_description', 'weather_icon', 'pressure', 'humidity'])\n",
    "\n",
    "# Make a dataframe for each city\n",
    "valencia_df = raw_weather_df[raw_weather_df['city_name'] == 'Valencia']\n",
    "madrid_df = raw_weather_df[raw_weather_df['city_name'] == 'Madrid']\n",
    "bilbao_df = raw_weather_df[raw_weather_df['city_name'] == 'Bilbao']\n",
    "barcelona_df = raw_weather_df[raw_weather_df['city_name'] == ' Barcelona']\n",
    "seville_df = raw_weather_df[raw_weather_df['city_name'] == 'Seville']\n",
    "dfs = {\n",
    "    'valencia': valencia_df,\n",
    "    'madrid': madrid_df,\n",
    "    'bilbao': bilbao_df,\n",
    "    'barcelona': barcelona_df,\n",
    "    'seville': seville_df\n",
    "}\n",
    "\n",
    "# Conjoin those so we have named features for each city\n",
    "renamed_dfs = []\n",
    "for city, df in dfs.items():\n",
    "    df = df.rename(columns={col: f\"{city}_{col}\" for col in df.columns if col != 'dt_iso'})\n",
    "    dfs[city] = df\n",
    "out1 = pd.merge(dfs['valencia'], dfs['madrid'], on='dt_iso', how='inner')\n",
    "out2 = pd.merge(out1, dfs['bilbao'], on='dt_iso', how='inner')\n",
    "out3 = pd.merge(out2, dfs['barcelona'], on='dt_iso', how='inner')\n",
    "out4 = pd.merge(out3, dfs['seville'], on='dt_iso', how='inner')\n",
    "weather_df = out4\n",
    "weather_df = weather_df.drop(columns=['valencia_city_name', 'madrid_city_name', 'barcelona_city_name', 'bilbao_city_name', 'seville_city_name'])\n",
    "del out1, out2, out3, out4, dfs"
   ]
  },
  {
   "cell_type": "code",
   "execution_count": null,
   "metadata": {},
   "outputs": [],
   "source": [
    "# Clean up and simplify our energy dataframe.\n",
    "energy_df = raw_energy_df.drop(columns=['generation fossil coal-derived gas', 'generation fossil oil shale', 'generation fossil peat', 'generation geothermal', 'generation wind offshore', 'generation marine', 'forecast wind offshore eday ahead', 'generation hydro pumped storage aggregated', 'price day ahead', 'total load forecast'])\n",
    "energy_df = energy_df.rename(columns={'total load actual': 'total load'})\n",
    "energy_df = energy_df.dropna().copy()\n",
    "energy_df['dt_iso'] = energy_df['time']\n",
    "energy_df['generation wind'] = energy_df['generation wind onshore']\n",
    "energy_df['generation water'] = energy_df[['generation hydro run-of-river and poundage', 'generation hydro water reservoir','generation hydro pumped storage consumption']].sum(axis=1)\n",
    "energy_df['generation solar'] = energy_df['generation solar']\n",
    "energy_df['generation other'] = energy_df[['generation biomass', 'generation nuclear', 'generation other renewable', 'generation fossil brown coal/lignite', 'generation fossil gas', 'generation fossil hard coal','generation fossil oil', 'generation waste', 'generation other']].sum(axis=1)\n",
    "energy_df['generation total'] = energy_df[['generation wind', 'generation water', 'generation solar', 'generation other']].sum(axis=1)\n",
    "energy_df = energy_df[['dt_iso', 'generation wind', 'generation water', 'generation solar', 'generation total', 'total load', 'price actual']]"
   ]
  },
  {
   "cell_type": "code",
   "execution_count": null,
   "metadata": {},
   "outputs": [],
   "source": [
    "# Save to csvs\n",
    "weather_df.to_csv('./data/clean/weather.csv', index=False)\n",
    "energy_df.to_csv('./data/clean/energy.csv', index=False)"
   ]
  }
 ],
 "metadata": {
  "kernelspec": {
   "display_name": "venv",
   "language": "python",
   "name": "python3"
  },
  "language_info": {
   "codemirror_mode": {
    "name": "ipython",
    "version": 3
   },
   "file_extension": ".py",
   "mimetype": "text/x-python",
   "name": "python",
   "nbconvert_exporter": "python",
   "pygments_lexer": "ipython3",
   "version": "3.12.1"
  }
 },
 "nbformat": 4,
 "nbformat_minor": 2
}
