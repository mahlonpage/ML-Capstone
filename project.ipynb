{
 "cells": [
  {
   "cell_type": "code",
   "execution_count": null,
   "id": "604ac2cc",
   "metadata": {},
   "outputs": [],
   "source": [
    "import numpy as np\n",
    "import pandas as pd\n",
    "from sklearn.linear_model import Lasso\n",
    "from sklearn.model_selection import train_test_split\n",
    "from sklearn.ensemble import RandomForestRegressor\n",
    "from sklearn.metrics import mean_absolute_error, mean_squared_error, r2_score\n",
    "from sklearn.preprocessing import StandardScaler"
   ]
  },
  {
   "cell_type": "markdown",
   "id": "b236718f",
   "metadata": {},
   "source": [
    "# Import Data"
   ]
  },
  {
   "cell_type": "code",
   "execution_count": 4,
   "id": "bdc8c866",
   "metadata": {},
   "outputs": [],
   "source": [
    "energy_data_path = './data/clean/energy.csv'\n",
    "weather_data_path = './data/clean/weather.csv'"
   ]
  },
  {
   "cell_type": "code",
   "execution_count": 5,
   "id": "23036fd8",
   "metadata": {},
   "outputs": [],
   "source": [
    "energy_df = pd.read_csv(energy_data_path)\n",
    "weather_df = pd.read_csv(weather_data_path)"
   ]
  },
  {
   "cell_type": "markdown",
   "id": "c78b26d7",
   "metadata": {},
   "source": [
    "# Helper Functions"
   ]
  },
  {
   "cell_type": "code",
   "execution_count": null,
   "id": "af696e64",
   "metadata": {},
   "outputs": [],
   "source": [
    "def rolling_means(df, columns, days):\n",
    "    df = df.copy()\n",
    "    window_size = days * 24\n",
    "    for column in columns:\n",
    "        df[f'{column}_roll_{days}d'] = df[column].rolling(window=window_size, min_periods=1).mean()\n",
    "    return df"
   ]
  },
  {
   "cell_type": "code",
   "execution_count": 7,
   "id": "f17caffd",
   "metadata": {},
   "outputs": [],
   "source": [
    "def lag_features(df, features_to_lag, amount_to_lag):\n",
    "    new_df = df.copy()\n",
    "    for feature in features_to_lag:\n",
    "        lagged_column_name = f\"{feature}_{amount_to_lag}_lag\"\n",
    "        new_df[lagged_column_name] = df[feature].shift(amount_to_lag)\n",
    "    return new_df"
   ]
  },
  {
   "cell_type": "code",
   "execution_count": 8,
   "id": "804cff8d",
   "metadata": {},
   "outputs": [],
   "source": [
    "def run_linear_regression(X_train, Y_train, X_test):\n",
    "    model = RandomForestRegressor(n_estimators=50)\n",
    "    model.fit(X_train, Y_train)\n",
    "    y_pred = model.predict(X_test)\n",
    "    return y_pred"
   ]
  },
  {
   "cell_type": "code",
   "execution_count": 9,
   "id": "82d4946d",
   "metadata": {},
   "outputs": [],
   "source": [
    "def lasso_regression_weights(X_train, Y_train):\n",
    "    model = Lasso(max_iter=10000)\n",
    "    model.fit(X_train, Y_train)\n",
    "    weights = model.coef_\n",
    "    feature_weights = pd.Series(weights, index=X_train.columns)\n",
    "    return feature_weights"
   ]
  },
  {
   "cell_type": "code",
   "execution_count": 10,
   "id": "125511fa",
   "metadata": {},
   "outputs": [],
   "source": [
    "def evaluate_regression(y_true, y_pred):\n",
    "    mean_error = mean_absolute_error(y_true, y_pred)\n",
    "    root_mse = np.sqrt(mean_squared_error(y_true, y_pred))\n",
    "    r2 = r2_score(y_true, y_pred)\n",
    "    print(f\"Error: {mean_error} \\nRoot MSE: {root_mse} \\nR2: {r2}\")"
   ]
  },
  {
   "cell_type": "markdown",
   "id": "843def67",
   "metadata": {},
   "source": [
    "# Modeling"
   ]
  },
  {
   "cell_type": "code",
   "execution_count": 11,
   "id": "4f95115e",
   "metadata": {},
   "outputs": [],
   "source": [
    "df = pd.merge(weather_df, energy_df, on='dt_iso', how='inner')\n",
    "df = df.reset_index()\n",
    "df = df.drop(columns=['dt_iso'])"
   ]
  },
  {
   "cell_type": "code",
   "execution_count": null,
   "id": "076de2a7",
   "metadata": {},
   "outputs": [],
   "source": [
    "features_to_use = ['valencia_temp', 'valencia_wind_speed', 'valencia_cloud_cover_pct', 'valencia_precipitation_last_3hr', 'madrid_temp', 'madrid_wind_speed', 'madrid_cloud_cover_pct', 'madrid_precipitation_last_3hr', 'bilbao_temp', 'bilbao_wind_speed', 'bilbao_cloud_cover_pct', 'bilbao_precipitation_last_3hr', 'barcelona_temp', 'barcelona_wind_speed', 'barcelona_cloud_cover_pct', 'barcelona_precipitation_last_3hr', 'seville_temp', 'seville_wind_speed', 'seville_cloud_cover_pct', 'seville_precipitation_last_3hr']\n",
    "features_to_predict = ['price actual', 'generation wind', 'generation water', 'generation solar']"
   ]
  },
  {
   "cell_type": "markdown",
   "id": "8c53c475",
   "metadata": {},
   "source": [
    "## Price"
   ]
  },
  {
   "cell_type": "code",
   "execution_count": null,
   "id": "09939368",
   "metadata": {},
   "outputs": [],
   "source": [
    "X_price = df[features_to_use]\n",
    "Y_price = df['price actual']\n",
    "for days in [7,30]:\n",
    "    X_price = rolling_means(X_price, features_to_use, days)\n",
    "for hour_lag in [1,3,6,12,24]:\n",
    "    X_price = lag_features(X_price, features_to_use, hour_lag)\n",
    "X_price = X_price[721:]\n",
    "Y_price = Y_price[721:]\n",
    "X_train_price, X_test_price, Y_train_price, Y_test_price = train_test_split(X_price, Y_price, test_size=.2)\n",
    "\n",
    "scaler = StandardScaler()\n",
    "X_train_price = pd.DataFrame(scaler.fit_transform(X_train_price), columns=X_train_price.columns, index=X_train_price.index)\n",
    "X_test_price = pd.DataFrame(scaler.transform(X_test_price), columns=X_test_price.columns, index=X_test_price.index)\n",
    "\n",
    "price_feature_weights = lasso_regression_weights(X_train_price, Y_train_price)"
   ]
  },
  {
   "cell_type": "code",
   "execution_count": 25,
   "id": "46dbb173",
   "metadata": {},
   "outputs": [
    {
     "data": {
      "text/plain": [
       "barcelona_wind_speed_roll_30d            -3.321248\n",
       "madrid_wind_speed_roll_30d               -1.846323\n",
       "seville_temp_12_lag                      -1.488361\n",
       "madrid_wind_speed_12_lag                 -1.123649\n",
       "madrid_precipitation_last_3hr_roll_30d   -0.991364\n",
       "bilbao_wind_speed_roll_30d               -0.552679\n",
       "bilbao_wind_speed_12_lag                 -0.535790\n",
       "madrid_wind_speed                        -0.474724\n",
       "valencia_wind_speed_12_lag               -0.441122\n",
       "madrid_wind_speed_6_lag                  -0.351094\n",
       "madrid_wind_speed_1_lag                  -0.303150\n",
       "bilbao_wind_speed                        -0.295527\n",
       "valencia_temp                             0.224555\n",
       "seville_cloud_cover_pct_roll_30d         -0.083425\n",
       "madrid_temp                               0.067814\n",
       "madrid_wind_speed_3_lag                  -0.040518\n",
       "bilbao_cloud_cover_pct_24_lag            -0.000000\n",
       "madrid_temp_6_lag                         0.000000\n",
       "seville_wind_speed_24_lag                 0.000000\n",
       "madrid_cloud_cover_pct_6_lag              0.000000\n",
       "dtype: float64"
      ]
     },
     "execution_count": 25,
     "metadata": {},
     "output_type": "execute_result"
    }
   ],
   "source": [
    "price_feature_weights.sort_values(key=lambda x: x.abs(), ascending=False).head(20)"
   ]
  },
  {
   "cell_type": "code",
   "execution_count": 26,
   "id": "329b0e88",
   "metadata": {},
   "outputs": [
    {
     "name": "stdout",
     "output_type": "stream",
     "text": [
      "Error: 3.2271885200370325 \n",
      "Root MSE: 4.460025277100643 \n",
      "R2: 0.8997545350183631\n"
     ]
    }
   ],
   "source": [
    "most_important_price_features = ['barcelona_wind_speed_roll_30d', 'madrid_wind_speed_roll_30d' ,'seville_temp_12_lag','madrid_wind_speed_12_lag','madrid_precipitation_last_3hr_roll_30d','madrid_wind_speed','bilbao_wind_speed_12_lag','bilbao_wind_speed_roll_30d','valencia_wind_speed_12_lag','bilbao_wind_speed','madrid_wind_speed_1_lag','madrid_wind_speed_6_lag','madrid_temp','madrid_wind_speed_3_lag','madrid_temp_24_lag','seville_cloud_cover_pct_roll_30d','bilbao_cloud_cover_pct_roll_30d']\n",
    "\n",
    "X_train_price = X_train_price[most_important_price_features]\n",
    "X_test_price = X_test_price[most_important_price_features]\n",
    "Y_pred_price = run_linear_regression(X_train_price, Y_train_price, X_test_price)\n",
    "evaluate_regression(Y_test_price, Y_pred_price)"
   ]
  },
  {
   "cell_type": "markdown",
   "id": "da1f60c0",
   "metadata": {},
   "source": [
    "## Solar"
   ]
  },
  {
   "cell_type": "code",
   "execution_count": 220,
   "id": "1aeffe5a",
   "metadata": {},
   "outputs": [],
   "source": [
    "X_solar = df[features_to_use]\n",
    "Y_solar = df['generation solar']\n",
    "X_solar = rolling_means(X_solar, features_to_use, 7)\n",
    "X_solar = rolling_means(X_solar, features_to_use, 30)\n",
    "X_solar = lag_features(X_solar, features_to_use, 1)\n",
    "X_solar = lag_features(X_solar, features_to_use, 3)\n",
    "X_solar = lag_features(X_solar, features_to_use, 6)\n",
    "X_solar = lag_features(X_solar, features_to_use, 12)\n",
    "X_solar = lag_features(X_solar, features_to_use, 24)\n",
    "X_solar = X_solar[721:]\n",
    "Y_solar = Y_solar[721:]\n",
    "X_train_solar, X_test_solar, Y_train_solar, Y_test_solar = train_test_split(X_solar, Y_solar, test_size=.2)\n",
    "\n",
    "scaler = StandardScaler()\n",
    "X_train_solar = pd.DataFrame(scaler.fit_transform(X_train_solar), columns=X_train_solar.columns, index=X_train_solar.index)\n",
    "X_test_solar = pd.DataFrame(scaler.transform(X_test_solar), columns=X_test_solar.columns, index=X_test_solar.index)\n",
    "\n",
    "solar_feature_weights = lasso_regression_weights(X_train_solar, Y_train_solar)"
   ]
  },
  {
   "cell_type": "code",
   "execution_count": 221,
   "id": "1fb94d8b",
   "metadata": {},
   "outputs": [
    {
     "data": {
      "text/plain": [
       "barcelona_temp                             715.045632\n",
       "valencia_temp                              673.770398\n",
       "seville_temp                               640.795367\n",
       "madrid_temp_3_lag                         -412.214449\n",
       "bilbao_temp                                373.620246\n",
       "madrid_temp                                364.223039\n",
       "seville_temp_6_lag                        -337.148128\n",
       "barcelona_temp_3_lag                      -321.089229\n",
       "bilbao_temp_3_lag                         -307.912887\n",
       "valencia_temp_3_lag                       -267.624579\n",
       "barcelona_temp_6_lag                      -244.635620\n",
       "seville_temp_3_lag                        -244.293801\n",
       "valencia_cloud_cover_pct_roll_7d          -187.581407\n",
       "madrid_temp_24_lag                         178.340625\n",
       "valencia_temp_roll_7d                     -176.772722\n",
       "valencia_cloud_cover_pct_roll_30d          154.947476\n",
       "valencia_wind_speed_roll_30d              -145.869518\n",
       "valencia_precipitation_last_3hr_roll_7d    132.833361\n",
       "madrid_temp_roll_7d                        121.279037\n",
       "barcelona_temp_12_lag                     -117.462656\n",
       "dtype: float64"
      ]
     },
     "execution_count": 221,
     "metadata": {},
     "output_type": "execute_result"
    }
   ],
   "source": [
    "solar_feature_weights.sort_values(key=lambda x: x.abs(), ascending=False).head(20)"
   ]
  },
  {
   "cell_type": "code",
   "execution_count": 222,
   "id": "20047d29",
   "metadata": {},
   "outputs": [
    {
     "name": "stdout",
     "output_type": "stream",
     "text": [
      "Error: 518.7916532630563 \n",
      "Root MSE: 784.1639578421194 \n",
      "R2: 0.7759053536211877\n"
     ]
    }
   ],
   "source": [
    "most_important_solar_features = ['barcelona_temp', 'valencia_temp', 'seville_temp', 'madrid_temp_3_lag', 'bilbao_temp', 'madrid_temp', 'seville_temp_6_lag', 'barcelona_temp_3_lag', 'bilbao_temp_3_lag']\n",
    "\n",
    "X_train_solar = X_train_solar[most_important_solar_features]\n",
    "X_test_solar = X_test_solar[most_important_solar_features]\n",
    "Y_pred_solar = run_linear_regression(X_train_solar, Y_train_solar, X_test_solar)\n",
    "evaluate_regression(Y_test_solar, Y_pred_solar)"
   ]
  },
  {
   "cell_type": "markdown",
   "id": "1b6ed22d",
   "metadata": {},
   "source": [
    "## Water"
   ]
  },
  {
   "cell_type": "code",
   "execution_count": 217,
   "id": "eaf7f7e0",
   "metadata": {},
   "outputs": [],
   "source": [
    "X_water = df[features_to_use]\n",
    "Y_water = df['generation water']\n",
    "X_water = rolling_means(X_water, features_to_use, 7)\n",
    "X_water = rolling_means(X_water, features_to_use, 30)\n",
    "X_water = lag_features(X_water, features_to_use, 1)\n",
    "X_water = lag_features(X_water, features_to_use, 3)\n",
    "X_water = lag_features(X_water, features_to_use, 6)\n",
    "X_water = lag_features(X_water, features_to_use, 12)\n",
    "X_water = lag_features(X_water, features_to_use, 24)\n",
    "X_water = X_water[721:]\n",
    "Y_water = Y_water[721:]\n",
    "X_train_water, X_test_water, Y_train_water, Y_test_water = train_test_split(X_water, Y_water, test_size=.2)\n",
    "\n",
    "scaler = StandardScaler()\n",
    "X_train_water = pd.DataFrame(scaler.fit_transform(X_train_water), columns=X_train_water.columns, index=X_train_water.index)\n",
    "X_test_water = pd.DataFrame(scaler.transform(X_test_water), columns=X_test_water.columns, index=X_test_water.index)\n",
    "\n",
    "water_feature_weights = lasso_regression_weights(X_train_water, Y_train_water)"
   ]
  },
  {
   "cell_type": "code",
   "execution_count": 218,
   "id": "ab405792",
   "metadata": {},
   "outputs": [
    {
     "data": {
      "text/plain": [
       "seville_temp_roll_30d                      -1122.765811\n",
       "barcelona_temp_roll_7d                      -975.191866\n",
       "madrid_temp_roll_30d                        -910.005177\n",
       "valencia_precipitation_last_3hr_roll_30d     774.903927\n",
       "bilbao_precipitation_last_3hr_roll_30d      -751.591069\n",
       "madrid_temp_roll_7d                          728.987239\n",
       "barcelona_temp_roll_30d                      679.800593\n",
       "seville_wind_speed_roll_30d                  665.123693\n",
       "seville_temp_roll_7d                         615.358641\n",
       "barcelona_wind_speed_roll_30d                590.552910\n",
       "seville_precipitation_last_3hr_roll_30d     -483.465387\n",
       "valencia_temp_roll_30d                       476.005810\n",
       "bilbao_wind_speed_roll_7d                   -467.228011\n",
       "madrid_precipitation_last_3hr_roll_30d       371.586044\n",
       "valencia_temp_6_lag                          355.227766\n",
       "valencia_wind_speed_roll_7d                  328.250598\n",
       "bilbao_wind_speed_roll_30d                   311.920016\n",
       "barcelona_temp                               277.175295\n",
       "madrid_wind_speed_roll_30d                  -273.524566\n",
       "seville_temp                                 270.010092\n",
       "dtype: float64"
      ]
     },
     "execution_count": 218,
     "metadata": {},
     "output_type": "execute_result"
    }
   ],
   "source": [
    "water_feature_weights.sort_values(key=lambda x: x.abs(), ascending=False).head(20)"
   ]
  },
  {
   "cell_type": "code",
   "execution_count": 219,
   "id": "385c8c1a",
   "metadata": {},
   "outputs": [
    {
     "name": "stdout",
     "output_type": "stream",
     "text": [
      "Error: 473.07097209363843 \n",
      "Root MSE: 650.4418554472056 \n",
      "R2: 0.908558262292581\n"
     ]
    }
   ],
   "source": [
    "most_important_water_features = ['seville_temp_roll_30d', 'barcelona_temp_roll_7d', 'madrid_temp_roll_30d', 'valencia_precipitation_last_3hr_roll_30d', 'bilbao_precipitation_last_3hr_roll_30d', 'madrid_temp_roll_7d', 'barcelona_temp_roll_30d', 'seville_wind_speed_roll_30d', 'seville_temp_roll_7d', 'barcelona_wind_speed_roll_30d']\n",
    "\n",
    "X_train_water = X_train_water[most_important_water_features]\n",
    "X_test_water = X_test_water[most_important_water_features]\n",
    "Y_pred_water = run_linear_regression(X_train_water, Y_train_water, X_test_water)\n",
    "evaluate_regression(Y_test_water, Y_pred_water)"
   ]
  },
  {
   "cell_type": "markdown",
   "id": "9f5e52fa",
   "metadata": {},
   "source": [
    "## Wind"
   ]
  },
  {
   "cell_type": "code",
   "execution_count": 214,
   "id": "c2b8977b",
   "metadata": {},
   "outputs": [],
   "source": [
    "X_wind = df[features_to_use]\n",
    "Y_wind = df['generation wind']\n",
    "X_wind = rolling_means(X_wind, features_to_use, 7)\n",
    "X_wind = rolling_means(X_wind, features_to_use, 30)\n",
    "X_wind = lag_features(X_wind, features_to_use, 1)\n",
    "X_wind = lag_features(X_wind, features_to_use, 3)\n",
    "X_wind = lag_features(X_wind, features_to_use, 6)\n",
    "X_wind = lag_features(X_wind, features_to_use, 12)\n",
    "X_wind = lag_features(X_wind, features_to_use, 24)\n",
    "X_wind = X_wind[721:]\n",
    "Y_wind = Y_wind[721:]\n",
    "X_train_wind, X_test_wind, Y_train_wind, Y_test_wind = train_test_split(X_wind, Y_wind, test_size=.2)\n",
    "\n",
    "scaler = StandardScaler()\n",
    "X_train_wind = pd.DataFrame(scaler.fit_transform(X_train_wind), columns=X_train_wind.columns, index=X_train_wind.index)\n",
    "X_test_wind = pd.DataFrame(scaler.transform(X_test_wind), columns=X_test_wind.columns, index=X_test_wind.index)\n",
    "\n",
    "wind_feature_weights = lasso_regression_weights(X_train_wind, Y_train_wind)"
   ]
  },
  {
   "cell_type": "code",
   "execution_count": 215,
   "id": "c0235fd0",
   "metadata": {},
   "outputs": [
    {
     "data": {
      "text/plain": [
       "valencia_temp_roll_30d                      -1850.552456\n",
       "bilbao_temp_roll_30d                         1737.325994\n",
       "madrid_temp_roll_30d                         1433.335334\n",
       "bilbao_temp_roll_7d                         -1084.104961\n",
       "barcelona_temp_roll_7d                      -1072.165830\n",
       "valencia_temp_roll_7d                         768.243242\n",
       "madrid_temp                                  -526.789922\n",
       "seville_temp_roll_7d                         -508.920002\n",
       "valencia_cloud_cover_pct_roll_7d              441.490574\n",
       "seville_wind_speed_roll_30d                   423.181526\n",
       "valencia_precipitation_last_3hr_roll_7d      -408.472856\n",
       "barcelona_temp_roll_30d                      -328.255845\n",
       "valencia_cloud_cover_pct_roll_30d            -320.668749\n",
       "seville_precipitation_last_3hr_roll_7d        268.724279\n",
       "madrid_precipitation_last_3hr_roll_7d        -267.989595\n",
       "madrid_wind_speed                             259.111699\n",
       "barcelona_precipitation_last_3hr_roll_30d     247.569428\n",
       "bilbao_wind_speed_roll_30d                   -240.296272\n",
       "seville_temp_24_lag                           234.214417\n",
       "barcelona_temp_24_lag                        -231.697587\n",
       "dtype: float64"
      ]
     },
     "execution_count": 215,
     "metadata": {},
     "output_type": "execute_result"
    }
   ],
   "source": [
    "wind_feature_weights.sort_values(key=lambda x: x.abs(), ascending=False).head(20)"
   ]
  },
  {
   "cell_type": "code",
   "execution_count": 216,
   "id": "7763cdf3",
   "metadata": {},
   "outputs": [
    {
     "name": "stdout",
     "output_type": "stream",
     "text": [
      "Error: 413.4435762465282 \n",
      "Root MSE: 715.8171771442223 \n",
      "R2: 0.9513004182081046\n"
     ]
    }
   ],
   "source": [
    "most_important_wind_features = ['valencia_temp_roll_30d','bilbao_temp_roll_30d','madrid_temp_roll_30d','barcelona_temp_roll_7d','bilbao_temp_roll_7d','valencia_temp_roll_7d']\n",
    "\n",
    "X_train_wind = X_train_wind[most_important_wind_features]\n",
    "X_test_wind = X_test_wind[most_important_wind_features]\n",
    "Y_pred_wind = run_linear_regression(X_train_wind, Y_train_wind, X_test_wind)\n",
    "evaluate_regression(Y_test_wind, Y_pred_wind)"
   ]
  }
 ],
 "metadata": {
  "kernelspec": {
   "display_name": "venv",
   "language": "python",
   "name": "python3"
  },
  "language_info": {
   "codemirror_mode": {
    "name": "ipython",
    "version": 3
   },
   "file_extension": ".py",
   "mimetype": "text/x-python",
   "name": "python",
   "nbconvert_exporter": "python",
   "pygments_lexer": "ipython3",
   "version": "3.12.1"
  }
 },
 "nbformat": 4,
 "nbformat_minor": 5
}
