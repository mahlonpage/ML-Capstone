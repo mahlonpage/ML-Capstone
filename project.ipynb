{
 "cells": [
  {
   "cell_type": "code",
   "execution_count": null,
   "id": "604ac2cc",
   "metadata": {},
   "outputs": [],
   "source": [
    "import numpy as np\n",
    "import pandas as pd\n",
    "import matplotlib.pyplot as plt\n",
    "from sklearn.linear_model import Lasso\n",
    "from sklearn.model_selection import train_test_split\n",
    "from sklearn.ensemble import RandomForestRegressor\n",
    "from sklearn.metrics import mean_absolute_error, mean_squared_error, r2_score"
   ]
  },
  {
   "cell_type": "markdown",
   "id": "b236718f",
   "metadata": {},
   "source": [
    "## Import Data"
   ]
  },
  {
   "cell_type": "code",
   "execution_count": 81,
   "id": "bdc8c866",
   "metadata": {},
   "outputs": [],
   "source": [
    "energy_data_path = './data/clean/energy.csv'\n",
    "weather_data_path = './data/clean/weather.csv'"
   ]
  },
  {
   "cell_type": "code",
   "execution_count": 82,
   "id": "23036fd8",
   "metadata": {},
   "outputs": [],
   "source": [
    "energy_df = pd.read_csv(energy_data_path)\n",
    "weather_df = pd.read_csv(weather_data_path)"
   ]
  },
  {
   "cell_type": "markdown",
   "id": "c78b26d7",
   "metadata": {},
   "source": [
    "## Assist Functions"
   ]
  },
  {
   "cell_type": "code",
   "execution_count": 103,
   "id": "f17caffd",
   "metadata": {},
   "outputs": [],
   "source": [
    "def lag_features_of_dataframe(df, features_to_lag, amount_to_lag):\n",
    "    new_df = df.copy()\n",
    "    for feature in features_to_lag:\n",
    "        lagged_column_name = f\"{feature}_{amount_to_lag}_lag\"\n",
    "        new_df[lagged_column_name] = df[feature].shift(amount_to_lag)\n",
    "    return new_df"
   ]
  },
  {
   "cell_type": "code",
   "execution_count": 131,
   "id": "804cff8d",
   "metadata": {},
   "outputs": [],
   "source": [
    "def run_linear_regression(X_train, Y_train, X_test):\n",
    "    model = RandomForestRegressor(n_estimators=50)\n",
    "    model.fit(X_train, Y_train)\n",
    "    y_pred = model.predict(X_test)\n",
    "    return y_pred"
   ]
  },
  {
   "cell_type": "code",
   "execution_count": 132,
   "id": "82d4946d",
   "metadata": {},
   "outputs": [],
   "source": [
    "def lasso_regression_weights(X_train, Y_train):\n",
    "    model = Lasso(max_iter=10000)\n",
    "    model.fit(X_train, Y_train)\n",
    "    weights = model.coef_\n",
    "    feature_weights = pd.Series(weights, index=X_train.columns)\n",
    "    print(feature_weights)"
   ]
  },
  {
   "cell_type": "code",
   "execution_count": 134,
   "id": "125511fa",
   "metadata": {},
   "outputs": [],
   "source": [
    "def evaluate_regression(y_true, y_pred):\n",
    "    mean_error = mean_absolute_error(y_true, y_pred)\n",
    "    root_mse = np.sqrt(mean_squared_error(y_true, y_pred))\n",
    "    r2 = r2_score(y_true, y_pred)\n",
    "    print(f\"Error: {mean_error} \\nRoot MSE: {root_mse} \\nR2: {r2}\")"
   ]
  },
  {
   "cell_type": "markdown",
   "id": "843def67",
   "metadata": {},
   "source": [
    "## Grind"
   ]
  },
  {
   "cell_type": "code",
   "execution_count": 129,
   "id": "4f95115e",
   "metadata": {},
   "outputs": [],
   "source": [
    "df = pd.merge(weather_df, energy_df, on='dt_iso', how='inner')\n",
    "df = df.reset_index()\n",
    "df = df.drop(columns=['dt_iso'])"
   ]
  },
  {
   "cell_type": "code",
   "execution_count": 130,
   "id": "076de2a7",
   "metadata": {},
   "outputs": [],
   "source": [
    "features = ['valencia_temp', 'valencia_wind_speed', 'valencia_cloud_cover_pct', 'valencia_precipitation_last_3hr', 'madrid_temp', 'madrid_wind_speed', 'madrid_cloud_cover_pct', 'madrid_precipitation_last_3hr', 'bilbao_temp', 'bilbao_wind_speed', 'bilbao_cloud_cover_pct', 'bilbao_precipitation_last_3hr', 'barcelona_temp', 'barcelona_wind_speed', 'barcelona_cloud_cover_pct', 'barcelona_precipitation_last_3hr', 'seville_temp', 'seville_wind_speed', 'seville_cloud_cover_pct', 'seville_precipitation_last_3hr']\n",
    "features_to_predict = ['price actual', 'generation total', 'generation wind', 'generation water', 'generation solar']\n",
    "features_to_predict = ['price actual']"
   ]
  },
  {
   "cell_type": "code",
   "execution_count": 135,
   "id": "c2b8977b",
   "metadata": {},
   "outputs": [],
   "source": [
    "X = df[features]\n",
    "Y = df[features_to_predict]\n",
    "X_train, X_test, Y_train, Y_test = train_test_split(X, Y, test_size=.2)"
   ]
  }
 ],
 "metadata": {
  "kernelspec": {
   "display_name": "venv",
   "language": "python",
   "name": "python3"
  },
  "language_info": {
   "codemirror_mode": {
    "name": "ipython",
    "version": 3
   },
   "file_extension": ".py",
   "mimetype": "text/x-python",
   "name": "python",
   "nbconvert_exporter": "python",
   "pygments_lexer": "ipython3",
   "version": "3.12.1"
  }
 },
 "nbformat": 4,
 "nbformat_minor": 5
}
